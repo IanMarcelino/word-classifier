{
 "cells": [
  {
   "cell_type": "code",
   "execution_count": 28,
   "id": "e6c00379-5c43-4149-8e15-f4c603e8663d",
   "metadata": {},
   "outputs": [],
   "source": [
    "import urllib.request    "
   ]
  },
  {
   "cell_type": "code",
   "execution_count": 29,
   "id": "2bbf56e6-646d-4f31-a96b-e0acd15c53e6",
   "metadata": {},
   "outputs": [],
   "source": [
    "import string"
   ]
  },
  {
   "cell_type": "code",
   "execution_count": 30,
   "id": "b080d904-3b4c-4dcb-822f-3001f8b26890",
   "metadata": {},
   "outputs": [],
   "source": [
    "import os "
   ]
  },
  {
   "cell_type": "code",
   "execution_count": 31,
   "id": "02950905-8faa-4ab5-a046-73ce382db84a",
   "metadata": {},
   "outputs": [],
   "source": [
    "import re"
   ]
  },
  {
   "cell_type": "code",
   "execution_count": 32,
   "id": "3b759f8a-1421-48e1-af9e-9626a98fa6ce",
   "metadata": {},
   "outputs": [],
   "source": [
    "import unicodedata"
   ]
  },
  {
   "cell_type": "code",
   "execution_count": 33,
   "id": "1df93924-3f37-4114-acac-c983c7ef587c",
   "metadata": {},
   "outputs": [],
   "source": [
    "import nltk "
   ]
  },
  {
   "cell_type": "code",
   "execution_count": 34,
   "id": "70b4353f-d144-4c5f-9845-652c3110d937",
   "metadata": {},
   "outputs": [
    {
     "name": "stdout",
     "output_type": "stream",
     "text": [
      "Collecting hunspell\n",
      "  Using cached hunspell-0.5.5.tar.gz (34 kB)\n",
      "  Installing build dependencies: started\n",
      "  Installing build dependencies: finished with status 'done'\n",
      "  Getting requirements to build wheel: started\n",
      "  Getting requirements to build wheel: finished with status 'done'\n",
      "  Preparing metadata (pyproject.toml): started\n",
      "  Preparing metadata (pyproject.toml): finished with status 'done'\n",
      "Building wheels for collected packages: hunspell\n",
      "  Building wheel for hunspell (pyproject.toml): started\n",
      "  Building wheel for hunspell (pyproject.toml): finished with status 'error'\n",
      "Failed to build hunspell\n"
     ]
    },
    {
     "name": "stderr",
     "output_type": "stream",
     "text": [
      "  error: subprocess-exited-with-error\n",
      "  \n",
      "  Building wheel for hunspell (pyproject.toml) did not run successfully.\n",
      "  exit code: 1\n",
      "  \n",
      "  [5 lines of output]\n",
      "  running bdist_wheel\n",
      "  running build\n",
      "  running build_ext\n",
      "  building 'hunspell' extension\n",
      "  error: Microsoft Visual C++ 14.0 or greater is required. Get it with \"Microsoft C++ Build Tools\": https://visualstudio.microsoft.com/visual-cpp-build-tools/\n",
      "  [end of output]\n",
      "  \n",
      "  note: This error originates from a subprocess, and is likely not a problem with pip.\n",
      "  ERROR: Failed building wheel for hunspell\n",
      "ERROR: ERROR: Failed to build installable wheels for some pyproject.toml based projects (hunspell)\n"
     ]
    }
   ],
   "source": [
    "!pip install hunspell"
   ]
  },
  {
   "cell_type": "code",
   "execution_count": 35,
   "id": "ed9f47dc-1c3c-442f-b1e1-db39161ccce3",
   "metadata": {},
   "outputs": [],
   "source": [
    "stopwords = nltk.corpus.stopwords.words('portuguese')"
   ]
  },
  {
   "cell_type": "code",
   "execution_count": 36,
   "id": "876bc227-5406-4940-bbe6-f0b4f0c147e7",
   "metadata": {},
   "outputs": [
    {
     "name": "stderr",
     "output_type": "stream",
     "text": [
      "[nltk_data] Downloading package stopwords to\n",
      "[nltk_data]     C:\\Users\\User\\AppData\\Roaming\\nltk_data...\n",
      "[nltk_data]   Package stopwords is already up-to-date!\n"
     ]
    },
    {
     "data": {
      "text/plain": [
       "True"
      ]
     },
     "execution_count": 36,
     "metadata": {},
     "output_type": "execute_result"
    }
   ],
   "source": [
    "nltk.download('stopwords')"
   ]
  },
  {
   "cell_type": "code",
   "execution_count": 37,
   "id": "70cbe683-8ea1-492e-b80e-d625bfc6e495",
   "metadata": {},
   "outputs": [
    {
     "data": {
      "text/plain": [
       "('dicionario.txt', <http.client.HTTPMessage at 0x1b5ffd579e0>)"
      ]
     },
     "execution_count": 37,
     "metadata": {},
     "output_type": "execute_result"
    }
   ],
   "source": [
    "urllib.request.urlretrieve('https://raw.githubusercontent.com/pythonprobr/palavras/master/palavras.txt', 'dicionario.txt')"
   ]
  },
  {
   "cell_type": "code",
   "execution_count": 38,
   "id": "f7f16dad-bc79-47e3-b0a6-a7f937d60e18",
   "metadata": {},
   "outputs": [],
   "source": [
    "arquivo = open('dicionario.txt', 'r', encoding='utf-8')"
   ]
  },
  {
   "cell_type": "code",
   "execution_count": 39,
   "id": "936f24d6-ff90-491e-8c03-f9ae32393f03",
   "metadata": {},
   "outputs": [],
   "source": [
    "dicionario = arquivo.read()"
   ]
  },
  {
   "cell_type": "code",
   "execution_count": 40,
   "id": "13e0acef-bca4-41ec-8716-d91464deed92",
   "metadata": {},
   "outputs": [],
   "source": [
    "dicionario = dicionario.lower()"
   ]
  },
  {
   "cell_type": "code",
   "execution_count": 41,
   "id": "4ff0257a-9fbf-46b2-8fac-2ba34ee93093",
   "metadata": {},
   "outputs": [],
   "source": [
    "dicionario = dicionario.splitlines()"
   ]
  },
  {
   "cell_type": "code",
   "execution_count": 42,
   "id": "72c14356-5d18-4b2c-a513-70e95681e642",
   "metadata": {},
   "outputs": [],
   "source": [
    "tamanho = len(dicionario)"
   ]
  },
  {
   "cell_type": "code",
   "execution_count": 43,
   "id": "9aec76c4-8d46-4e56-86c3-882373f2ac2d",
   "metadata": {},
   "outputs": [],
   "source": [
    "word_map = {}"
   ]
  },
  {
   "cell_type": "code",
   "execution_count": 44,
   "id": "906c128f-c7e1-48ce-b97c-4b7ad38e9771",
   "metadata": {},
   "outputs": [],
   "source": [
    "for line in dicionario:\n",
    "    word = line.strip() # Adiciona a palavra ao dicionário com o valor True\n",
    "    if word:\n",
    "         word_map[word] = True"
   ]
  },
  {
   "cell_type": "code",
   "execution_count": 45,
   "id": "394ac8b9-a57f-4969-badf-21de4248b093",
   "metadata": {},
   "outputs": [],
   "source": [
    "path = f\"./contador_palavras\""
   ]
  },
  {
   "cell_type": "code",
   "execution_count": 46,
   "id": "758caade-1f4a-4b94-83f9-8d5971b4cdd7",
   "metadata": {},
   "outputs": [
    {
     "name": "stdout",
     "output_type": "stream",
     "text": [
      "['IPI']\n"
     ]
    }
   ],
   "source": [
    "processos = os.listdir(path)\n",
    "print(processos)\n"
   ]
  },
  {
   "cell_type": "code",
   "execution_count": 47,
   "id": "7ac49aec-7d9d-463e-b770-130ab44723de",
   "metadata": {},
   "outputs": [
    {
     "name": "stdout",
     "output_type": "stream",
     "text": [
      "0.7321428571428571\n",
      "0.7244444444444444\n",
      "0.7276785714285714\n",
      "0.7219730941704036\n",
      "0.7232142857142857\n",
      "0.726457399103139\n",
      "0.7232142857142857\n",
      "0.7085201793721974\n",
      "0.7288888888888889\n",
      "0.7288888888888889\n",
      "0.7309417040358744\n",
      "0.726457399103139\n",
      "0.726457399103139\n",
      "0.7276785714285714\n",
      "0.726457399103139\n",
      "0.7288888888888889\n",
      "0.7174887892376681\n",
      "0.726457399103139\n",
      "0.726457399103139\n",
      "0.7276785714285714\n",
      "0.726457399103139\n",
      "0.7333333333333333\n",
      "0.7276785714285714\n",
      "0.7309417040358744\n",
      "0.7377777777777778\n",
      "0.7219730941704036\n",
      "0.7219730941704036\n",
      "0.726457399103139\n",
      "0.7276785714285714\n",
      "0.7377777777777778\n",
      "0.7232142857142857\n",
      "0.7309417040358744\n",
      "0.726457399103139\n",
      "0.7174887892376681\n",
      "0.726457399103139\n",
      "0.7232142857142857\n",
      "0.7354260089686099\n",
      "0.7309417040358744\n",
      "0.7276785714285714\n",
      "0.7321428571428571\n",
      "0.726457399103139\n",
      "0.7276785714285714\n",
      "0.7244444444444444\n",
      "0.7276785714285714\n",
      "0.726457399103139\n",
      "0.7321428571428571\n",
      "0.7321428571428571\n",
      "0.7232142857142857\n",
      "0.7309417040358744\n",
      "0.7309417040358744\n",
      "0.726457399103139\n",
      "0.7232142857142857\n",
      "0.7354260089686099\n",
      "0.7297297297297297\n",
      "0.7276785714285714\n",
      "0.726457399103139\n",
      "0.726457399103139\n",
      "0.7276785714285714\n",
      "0.726457399103139\n",
      "0.7309417040358744\n",
      "0.7288888888888889\n",
      "0.7366071428571429\n",
      "0.7288888888888889\n",
      "0.7232142857142857\n",
      "0.726457399103139\n",
      "0.7219730941704036\n",
      "0.7232142857142857\n",
      "0.726457399103139\n",
      "0.7232142857142857\n",
      "0.7288888888888889\n",
      "0.7309417040358744\n",
      "0.7321428571428571\n",
      "0.726457399103139\n",
      "0.7130044843049327\n",
      "0.7276785714285714\n",
      "0.7219730941704036\n",
      "0.7321428571428571\n",
      "0.7366071428571429\n",
      "0.7276785714285714\n",
      "0.7219730941704036\n",
      "0.7309417040358744\n",
      "0.7244444444444444\n",
      "0.7276785714285714\n",
      "0.7321428571428571\n",
      "0.7321428571428571\n",
      "0.7276785714285714\n",
      "0.7174887892376681\n",
      "0.726457399103139\n",
      "0.726457399103139\n",
      "0.7219730941704036\n",
      "0.726457399103139\n",
      "0.7219730941704036\n",
      "0.7321428571428571\n",
      "0.7288888888888889\n",
      "0.7276785714285714\n",
      "0.72\n",
      "0.7276785714285714\n",
      "0.7309417040358744\n",
      "0.7309417040358744\n",
      "0.7321428571428571\n",
      "0.7366071428571429\n",
      "0.7174887892376681\n",
      "0.7219730941704036\n",
      "0.7276785714285714\n",
      "0.7276785714285714\n",
      "0.7219730941704036\n",
      "0.7276785714285714\n",
      "0.7309417040358744\n",
      "0.7219730941704036\n",
      "0.7244444444444444\n",
      "0.7309417040358744\n",
      "0.7309417040358744\n",
      "0.7232142857142857\n",
      "0.7321428571428571\n",
      "0.7366071428571429\n",
      "0.726457399103139\n",
      "0.7244444444444444\n",
      "0.7354260089686099\n",
      "0.726457399103139\n",
      "0.7232142857142857\n",
      "0.7321428571428571\n",
      "0.7300884955752213\n",
      "0.726457399103139\n",
      "0.7345132743362832\n",
      "0.7219730941704036\n",
      "0.7309417040358744\n",
      "0.7309417040358744\n",
      "0.7309417040358744\n",
      "0.726457399103139\n",
      "0.7232142857142857\n",
      "0.7276785714285714\n",
      "0.7232142857142857\n",
      "0.7232142857142857\n",
      "0.726457399103139\n",
      "0.7232142857142857\n",
      "0.7321428571428571\n",
      "0.7333333333333333\n",
      "0.7321428571428571\n",
      "0.7207207207207207\n",
      "0.7321428571428571\n",
      "0.7309417040358744\n",
      "0.7232142857142857\n",
      "0.7321428571428571\n",
      "0.71875\n",
      "0.726457399103139\n",
      "0.7321428571428571\n",
      "0.7244444444444444\n",
      "0.7276785714285714\n",
      "0.7276785714285714\n",
      "0.726457399103139\n",
      "0.71875\n",
      "0.7309417040358744\n",
      "0.7321428571428571\n",
      "0.7309417040358744\n",
      "0.726457399103139\n",
      "0.7232142857142857\n",
      "0.7321428571428571\n",
      "0.7276785714285714\n",
      "0.7321428571428571\n",
      "0.7321428571428571\n",
      "0.7321428571428571\n",
      "0.7309417040358744\n",
      "0.7207207207207207\n",
      "0.7276785714285714\n",
      "0.726457399103139\n"
     ]
    }
   ],
   "source": [
    "for process in processos:\n",
    "    files = os.listdir(f\"{path}/{process}\")\n",
    "    for file in files:\n",
    "        \n",
    "        palavras_invalidas = []\n",
    "        palavras_validas = []\n",
    "        \n",
    "        with open(f\"{path}/{process}/{file}\", encoding='utf-8') as f:\n",
    "            \n",
    "            text = f.read()\n",
    "            text = text.lower()\n",
    "            #print(text)\n",
    "            result = re.sub(r'[^\\w]', ' ', text)   # Substitui caracteres Especiais do texto \n",
    "            result = re.sub(r'\\d+', ' ', result)  # Substitui números\n",
    "            \n",
    "            stopwords_pattern = '|'.join(map(re.escape, stopwords)) \n",
    "            result =  re.sub(r'\\b(' + stopwords_pattern + r')\\b',' ',result) \n",
    "            result = result.split()\n",
    "            #print(result)\n",
    "            \n",
    "        for results in result: \n",
    "            if results in word_map:\n",
    "                palavras_validas.append(results)\n",
    "            else:\n",
    "                palavras_invalidas.append(results)\n",
    " \n",
    "        if (palavras_invalidas + palavras_validas) != 0:\n",
    "            print(len(palavras_validas) / (len(palavras_invalidas) + len(palavras_validas)))\n",
    "        else:\n",
    "            print(\"Não é possível dividir por zero.\")\n",
    "\n",
    "\n",
    "\n",
    "            \n",
    "        # print(file)\n",
    "        # print(palavrass_invalidas)\n",
    "        # print(palavras_validas)\n",
    "        # print(palavras_validas/(palavras_invalidas+palavras_validas))\n",
    "        "
   ]
  },
  {
   "cell_type": "code",
   "execution_count": null,
   "id": "95d28a6d-6dc9-41fe-9a9d-7c0f415897e1",
   "metadata": {},
   "outputs": [],
   "source": []
  },
  {
   "cell_type": "code",
   "execution_count": null,
   "id": "8efdf2b7-da96-4595-9b5f-8f7c8f34df6d",
   "metadata": {},
   "outputs": [],
   "source": []
  },
  {
   "cell_type": "code",
   "execution_count": null,
   "id": "67de7fe9-a4e8-476e-8c19-16b506cff837",
   "metadata": {},
   "outputs": [],
   "source": []
  },
  {
   "cell_type": "code",
   "execution_count": null,
   "id": "2a344bb9-c6c0-45c2-befa-852e41d956fb",
   "metadata": {},
   "outputs": [],
   "source": []
  },
  {
   "cell_type": "code",
   "execution_count": null,
   "id": "1d3c2d73-add1-4deb-9de0-b48d6ca97aa3",
   "metadata": {},
   "outputs": [],
   "source": []
  },
  {
   "cell_type": "code",
   "execution_count": null,
   "id": "8110ed79-5dfb-48f3-abd5-a4c0456d3f9a",
   "metadata": {},
   "outputs": [],
   "source": []
  },
  {
   "cell_type": "code",
   "execution_count": null,
   "id": "023fd2a4-015f-472f-af46-f51ad0f66605",
   "metadata": {},
   "outputs": [],
   "source": []
  },
  {
   "cell_type": "code",
   "execution_count": null,
   "id": "7c29153e-2790-45d9-bdc2-e8f6d4b7a36b",
   "metadata": {},
   "outputs": [],
   "source": []
  },
  {
   "cell_type": "code",
   "execution_count": null,
   "id": "7f71f334-a060-4f42-b1e5-3d88b66ab55d",
   "metadata": {},
   "outputs": [],
   "source": []
  },
  {
   "cell_type": "code",
   "execution_count": null,
   "id": "dda81a4a-0207-4d00-8b16-e8abaa08d474",
   "metadata": {},
   "outputs": [],
   "source": []
  },
  {
   "cell_type": "code",
   "execution_count": null,
   "id": "f4de274d-b665-46f9-b404-65eefab4f70f",
   "metadata": {},
   "outputs": [],
   "source": []
  },
  {
   "cell_type": "code",
   "execution_count": null,
   "id": "521830eb-b689-49e2-b124-70f51c48c21e",
   "metadata": {},
   "outputs": [],
   "source": []
  },
  {
   "cell_type": "code",
   "execution_count": null,
   "id": "e0ee26a2-ef74-4776-a1bd-56d93c03ff89",
   "metadata": {},
   "outputs": [],
   "source": []
  },
  {
   "cell_type": "code",
   "execution_count": null,
   "id": "411db49f-5f1d-4fa9-aea0-d1120262cb2c",
   "metadata": {},
   "outputs": [],
   "source": []
  },
  {
   "cell_type": "code",
   "execution_count": null,
   "id": "ed6b5a13-5e43-4ba1-be34-bcf4d4ca1925",
   "metadata": {},
   "outputs": [],
   "source": []
  },
  {
   "cell_type": "code",
   "execution_count": null,
   "id": "57414b12-f67f-464c-b1ec-ca3f7c14bd65",
   "metadata": {},
   "outputs": [],
   "source": []
  }
 ],
 "metadata": {
  "kernelspec": {
   "display_name": "Python 3 (ipykernel)",
   "language": "python",
   "name": "python3"
  },
  "language_info": {
   "codemirror_mode": {
    "name": "ipython",
    "version": 3
   },
   "file_extension": ".py",
   "mimetype": "text/x-python",
   "name": "python",
   "nbconvert_exporter": "python",
   "pygments_lexer": "ipython3",
   "version": "3.12.6"
  }
 },
 "nbformat": 4,
 "nbformat_minor": 5
}
