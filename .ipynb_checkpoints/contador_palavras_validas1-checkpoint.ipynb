{
 "cells": [
  {
   "cell_type": "code",
   "execution_count": 1,
   "id": "e6c00379-5c43-4149-8e15-f4c603e8663d",
   "metadata": {},
   "outputs": [],
   "source": [
    "import urllib.request"
   ]
  },
  {
   "cell_type": "code",
   "execution_count": 2,
   "id": "2bbf56e6-646d-4f31-a96b-e0acd15c53e6",
   "metadata": {},
   "outputs": [],
   "source": [
    "import string"
   ]
  },
  {
   "cell_type": "code",
   "execution_count": 3,
   "id": "b080d904-3b4c-4dcb-822f-3001f8b26890",
   "metadata": {},
   "outputs": [],
   "source": [
    "import os "
   ]
  },
  {
   "cell_type": "code",
   "execution_count": 4,
   "id": "02950905-8faa-4ab5-a046-73ce382db84a",
   "metadata": {},
   "outputs": [],
   "source": [
    "import re"
   ]
  },
  {
   "cell_type": "code",
   "execution_count": 5,
   "id": "3b759f8a-1421-48e1-af9e-9626a98fa6ce",
   "metadata": {},
   "outputs": [],
   "source": [
    "import unicodedata"
   ]
  },
  {
   "cell_type": "code",
   "execution_count": 6,
   "id": "1df93924-3f37-4114-acac-c983c7ef587c",
   "metadata": {},
   "outputs": [],
   "source": [
    "import nltk "
   ]
  },
  {
   "cell_type": "code",
   "execution_count": 7,
   "id": "ed9f47dc-1c3c-442f-b1e1-db39161ccce3",
   "metadata": {},
   "outputs": [],
   "source": [
    "stopwords = nltk.corpus.stopwords.words('portuguese')"
   ]
  },
  {
   "cell_type": "code",
   "execution_count": 8,
   "id": "876bc227-5406-4940-bbe6-f0b4f0c147e7",
   "metadata": {},
   "outputs": [
    {
     "name": "stderr",
     "output_type": "stream",
     "text": [
      "[nltk_data] Downloading package stopwords to\n",
      "[nltk_data]     C:\\Users\\User\\AppData\\Roaming\\nltk_data...\n",
      "[nltk_data]   Package stopwords is already up-to-date!\n"
     ]
    },
    {
     "data": {
      "text/plain": [
       "True"
      ]
     },
     "execution_count": 8,
     "metadata": {},
     "output_type": "execute_result"
    }
   ],
   "source": [
    "nltk.download('stopwords')"
   ]
  },
  {
   "cell_type": "code",
   "execution_count": 9,
   "id": "70cbe683-8ea1-492e-b80e-d625bfc6e495",
   "metadata": {},
   "outputs": [
    {
     "data": {
      "text/plain": [
       "('dicionario.txt', <http.client.HTTPMessage at 0x2a2886e64e0>)"
      ]
     },
     "execution_count": 9,
     "metadata": {},
     "output_type": "execute_result"
    }
   ],
   "source": [
    "urllib.request.urlretrieve('https://www.ime.usp.br/~pf/dicios/br-sem-acentos.txt', 'dicionario.txt')"
   ]
  },
  {
   "cell_type": "code",
   "execution_count": 10,
   "id": "f7f16dad-bc79-47e3-b0a6-a7f937d60e18",
   "metadata": {},
   "outputs": [],
   "source": [
    "arquivo = open('dicionario.txt', 'r', encoding='utf-8')"
   ]
  },
  {
   "cell_type": "code",
   "execution_count": 11,
   "id": "936f24d6-ff90-491e-8c03-f9ae32393f03",
   "metadata": {},
   "outputs": [],
   "source": [
    "dicionario = arquivo.read()"
   ]
  },
  {
   "cell_type": "code",
   "execution_count": 12,
   "id": "13e0acef-bca4-41ec-8716-d91464deed92",
   "metadata": {},
   "outputs": [],
   "source": [
    "dicionario = dicionario.lower()"
   ]
  },
  {
   "cell_type": "code",
   "execution_count": 13,
   "id": "4ff0257a-9fbf-46b2-8fac-2ba34ee93093",
   "metadata": {},
   "outputs": [],
   "source": [
    "dicionario = dicionario.splitlines()"
   ]
  },
  {
   "cell_type": "code",
   "execution_count": 14,
   "id": "72c14356-5d18-4b2c-a513-70e95681e642",
   "metadata": {},
   "outputs": [],
   "source": [
    "tamanho = len(dicionario)"
   ]
  },
  {
   "cell_type": "code",
   "execution_count": 15,
   "id": "9aec76c4-8d46-4e56-86c3-882373f2ac2d",
   "metadata": {},
   "outputs": [],
   "source": [
    "word_map = {}"
   ]
  },
  {
   "cell_type": "code",
   "execution_count": 16,
   "id": "906c128f-c7e1-48ce-b97c-4b7ad38e9771",
   "metadata": {},
   "outputs": [],
   "source": [
    "for line in dicionario:\n",
    "    word = line.strip() # Adiciona a palavra ao dicionário com o valor True\n",
    "    if word:\n",
    "         word_map[word] = True"
   ]
  },
  {
   "cell_type": "code",
   "execution_count": 17,
   "id": "394ac8b9-a57f-4969-badf-21de4248b093",
   "metadata": {},
   "outputs": [],
   "source": [
    "path = f\"./contador_palavras\""
   ]
  },
  {
   "cell_type": "code",
   "execution_count": 18,
   "id": "758caade-1f4a-4b94-83f9-8d5971b4cdd7",
   "metadata": {},
   "outputs": [
    {
     "name": "stdout",
     "output_type": "stream",
     "text": [
      "['IPI']\n"
     ]
    }
   ],
   "source": [
    "processos = os.listdir(path)\n",
    "print(processos)\n"
   ]
  },
  {
   "cell_type": "code",
   "execution_count": 23,
   "id": "7ac49aec-7d9d-463e-b770-130ab44723de",
   "metadata": {},
   "outputs": [
    {
     "name": "stdout",
     "output_type": "stream",
     "text": [
      "--------------------------------------------------\n",
      "0.6371681415929203\n",
      "0.6343612334801763\n",
      "0.6415929203539823\n",
      "0.6311111111111111\n",
      "0.6327433628318584\n",
      "0.6355555555555555\n",
      "0.6327433628318584\n",
      "0.6488888888888888\n",
      "0.6343612334801763\n",
      "0.6431718061674009\n",
      "0.64\n",
      "0.6355555555555555\n",
      "0.6266666666666667\n",
      "0.6371681415929203\n",
      "0.6355555555555555\n",
      "0.6475770925110133\n",
      "0.64\n",
      "0.6355555555555555\n",
      "0.6311111111111111\n",
      "0.6371681415929203\n",
      "0.6355555555555555\n",
      "0.6387665198237885\n",
      "0.6371681415929203\n",
      "0.64\n",
      "0.6387665198237885\n",
      "0.64\n",
      "0.6311111111111111\n",
      "0.6355555555555555\n",
      "0.6371681415929203\n",
      "0.6387665198237885\n",
      "0.6371681415929203\n",
      "0.64\n",
      "0.6355555555555555\n",
      "0.6355555555555555\n",
      "0.64\n",
      "0.6327433628318584\n",
      "0.64\n",
      "0.6355555555555555\n",
      "0.6371681415929203\n",
      "0.6327433628318584\n",
      "0.6311111111111111\n",
      "0.6371681415929203\n",
      "0.6343612334801763\n",
      "0.6415929203539823\n",
      "0.6444444444444445\n",
      "0.6415929203539823\n",
      "0.6371681415929203\n",
      "0.6327433628318584\n",
      "0.6311111111111111\n",
      "0.6355555555555555\n",
      "0.64\n",
      "0.6327433628318584\n",
      "0.64\n",
      "0.6339285714285714\n",
      "0.6371681415929203\n",
      "0.6444444444444445\n",
      "0.64\n",
      "0.6415929203539823\n",
      "0.64\n",
      "0.6355555555555555\n",
      "0.6387665198237885\n",
      "0.6283185840707964\n",
      "0.6387665198237885\n",
      "0.6283185840707964\n",
      "0.6355555555555555\n",
      "0.6488888888888888\n",
      "0.6371681415929203\n",
      "0.64\n",
      "0.6327433628318584\n",
      "0.6387665198237885\n",
      "0.64\n",
      "0.6371681415929203\n",
      "0.64\n",
      "0.6533333333333333\n",
      "0.6415929203539823\n",
      "0.6355555555555555\n",
      "0.6371681415929203\n",
      "0.6371681415929203\n",
      "0.6371681415929203\n",
      "0.6355555555555555\n",
      "0.6355555555555555\n",
      "0.6343612334801763\n",
      "0.6415929203539823\n",
      "0.6415929203539823\n",
      "0.6327433628318584\n",
      "0.6327433628318584\n",
      "0.6311111111111111\n",
      "0.64\n",
      "0.6355555555555555\n",
      "0.6311111111111111\n",
      "0.64\n",
      "0.6355555555555555\n",
      "0.6371681415929203\n",
      "0.6343612334801763\n",
      "0.6371681415929203\n",
      "0.6343612334801763\n",
      "0.6371681415929203\n",
      "0.6355555555555555\n",
      "0.6355555555555555\n",
      "0.6415929203539823\n",
      "0.6327433628318584\n",
      "0.6355555555555555\n",
      "0.6355555555555555\n",
      "0.6415929203539823\n",
      "0.6415929203539823\n",
      "0.64\n",
      "0.6327433628318584\n",
      "0.6355555555555555\n",
      "0.6355555555555555\n",
      "0.6387665198237885\n",
      "0.6311111111111111\n",
      "0.6355555555555555\n",
      "0.6371681415929203\n",
      "0.6371681415929203\n",
      "0.6371681415929203\n",
      "0.64\n",
      "0.6299559471365639\n",
      "0.64\n",
      "0.64\n",
      "0.6371681415929203\n",
      "0.6371681415929203\n",
      "0.6359649122807017\n",
      "0.6355555555555555\n",
      "0.6447368421052632\n",
      "0.64\n",
      "0.64\n",
      "0.6355555555555555\n",
      "0.6355555555555555\n",
      "0.6355555555555555\n",
      "0.6371681415929203\n",
      "0.6415929203539823\n",
      "0.6415929203539823\n",
      "0.6327433628318584\n",
      "0.6355555555555555\n",
      "0.6327433628318584\n",
      "0.6371681415929203\n",
      "0.6431718061674009\n",
      "0.6371681415929203\n",
      "0.625\n",
      "0.6327433628318584\n",
      "0.64\n",
      "0.6415929203539823\n",
      "0.6371681415929203\n",
      "0.6371681415929203\n",
      "0.6355555555555555\n",
      "0.6415929203539823\n",
      "0.6387665198237885\n",
      "0.6371681415929203\n",
      "0.6327433628318584\n",
      "0.64\n",
      "0.6371681415929203\n",
      "0.6355555555555555\n",
      "0.6415929203539823\n",
      "0.6355555555555555\n",
      "0.6355555555555555\n",
      "0.6415929203539823\n",
      "0.6327433628318584\n",
      "0.6327433628318584\n",
      "0.6327433628318584\n",
      "0.6371681415929203\n",
      "0.6415929203539823\n",
      "0.64\n",
      "0.6339285714285714\n",
      "0.6371681415929203\n",
      "0.6355555555555555\n"
     ]
    }
   ],
   "source": [
    "for process in processos:\n",
    "    print(\"--------------------------------------------------\")\n",
    "    files = os.listdir(f\"{path}/{process}\")\n",
    "    for file in files:\n",
    "        \n",
    "        palavras_validas= 0\n",
    "        palavras_invalidas = 0\n",
    "        palavrass_invalidas = []\n",
    "        palavrass_validas = []\n",
    "        with open(f\"{path}/{process}/{file}\", encoding='utf-8') as f:\n",
    "            \n",
    "            text = f.read()\n",
    "            text = text.lower()\n",
    "            #print(text)\n",
    "            result = re.sub(r'[^\\w]', ' ', text)   # Substitui caracteres Especiais do texto \n",
    "            result = re.sub(r'\\d+', ' ', result)  # Substitui números\n",
    "            result = re.sub(r'[áéíóúÁÉÍÓÚâêîôûÂÊÎÔÛãõÃÕçÇõãö]', '', result)  # Remove acentos e 'ç'\n",
    "            \n",
    "            stopwords_pattern = '|'.join(map(re.escape, stopwords)) \n",
    "            result =  re.sub(r'\\b(' + stopwords_pattern + r')\\b',' ',result) \n",
    "            result = result.split()\n",
    "            # print(result)\n",
    "            \n",
    "        for results in result: \n",
    "            if results in word_map:\n",
    "                palavras_validas+=1\n",
    "                palavrass_validas.append(results)\n",
    "            else:\n",
    "                palavras_invalidas+=1 \n",
    "                palavrass_invalidas.append(results)\n",
    " \n",
    "        if (palavras_invalidas + palavras_validas) != 0:\n",
    "            print(palavras_validas / (palavras_invalidas + palavras_validas))\n",
    "        else:\n",
    "            print(\"Não é possível dividir por zero.\")\n",
    "        # print(file)\n",
    "        # print(palavrass_invalidas)\n",
    "        # print(palavras_validas)\n",
    "        # print(palavras_validas/(palavras_invalidas+palavras_validas))\n",
    "        "
   ]
  },
  {
   "cell_type": "code",
   "execution_count": null,
   "id": "95d28a6d-6dc9-41fe-9a9d-7c0f415897e1",
   "metadata": {},
   "outputs": [],
   "source": []
  },
  {
   "cell_type": "code",
   "execution_count": null,
   "id": "8efdf2b7-da96-4595-9b5f-8f7c8f34df6d",
   "metadata": {},
   "outputs": [],
   "source": []
  },
  {
   "cell_type": "code",
   "execution_count": null,
   "id": "67de7fe9-a4e8-476e-8c19-16b506cff837",
   "metadata": {},
   "outputs": [],
   "source": []
  },
  {
   "cell_type": "code",
   "execution_count": null,
   "id": "2a344bb9-c6c0-45c2-befa-852e41d956fb",
   "metadata": {},
   "outputs": [],
   "source": []
  },
  {
   "cell_type": "code",
   "execution_count": null,
   "id": "1d3c2d73-add1-4deb-9de0-b48d6ca97aa3",
   "metadata": {},
   "outputs": [],
   "source": []
  },
  {
   "cell_type": "code",
   "execution_count": null,
   "id": "8110ed79-5dfb-48f3-abd5-a4c0456d3f9a",
   "metadata": {},
   "outputs": [],
   "source": []
  },
  {
   "cell_type": "code",
   "execution_count": null,
   "id": "023fd2a4-015f-472f-af46-f51ad0f66605",
   "metadata": {},
   "outputs": [],
   "source": []
  },
  {
   "cell_type": "code",
   "execution_count": null,
   "id": "7c29153e-2790-45d9-bdc2-e8f6d4b7a36b",
   "metadata": {},
   "outputs": [],
   "source": []
  },
  {
   "cell_type": "code",
   "execution_count": null,
   "id": "7f71f334-a060-4f42-b1e5-3d88b66ab55d",
   "metadata": {},
   "outputs": [],
   "source": []
  },
  {
   "cell_type": "code",
   "execution_count": null,
   "id": "dda81a4a-0207-4d00-8b16-e8abaa08d474",
   "metadata": {},
   "outputs": [],
   "source": []
  },
  {
   "cell_type": "code",
   "execution_count": null,
   "id": "f4de274d-b665-46f9-b404-65eefab4f70f",
   "metadata": {},
   "outputs": [],
   "source": []
  },
  {
   "cell_type": "code",
   "execution_count": null,
   "id": "521830eb-b689-49e2-b124-70f51c48c21e",
   "metadata": {},
   "outputs": [],
   "source": []
  },
  {
   "cell_type": "code",
   "execution_count": null,
   "id": "e0ee26a2-ef74-4776-a1bd-56d93c03ff89",
   "metadata": {},
   "outputs": [],
   "source": []
  },
  {
   "cell_type": "code",
   "execution_count": null,
   "id": "411db49f-5f1d-4fa9-aea0-d1120262cb2c",
   "metadata": {},
   "outputs": [],
   "source": []
  },
  {
   "cell_type": "code",
   "execution_count": null,
   "id": "ed6b5a13-5e43-4ba1-be34-bcf4d4ca1925",
   "metadata": {},
   "outputs": [],
   "source": []
  },
  {
   "cell_type": "code",
   "execution_count": null,
   "id": "57414b12-f67f-464c-b1ec-ca3f7c14bd65",
   "metadata": {},
   "outputs": [],
   "source": []
  }
 ],
 "metadata": {
  "kernelspec": {
   "display_name": "Python 3 (ipykernel)",
   "language": "python",
   "name": "python3"
  },
  "language_info": {
   "codemirror_mode": {
    "name": "ipython",
    "version": 3
   },
   "file_extension": ".py",
   "mimetype": "text/x-python",
   "name": "python",
   "nbconvert_exporter": "python",
   "pygments_lexer": "ipython3",
   "version": "3.12.6"
  }
 },
 "nbformat": 4,
 "nbformat_minor": 5
}
